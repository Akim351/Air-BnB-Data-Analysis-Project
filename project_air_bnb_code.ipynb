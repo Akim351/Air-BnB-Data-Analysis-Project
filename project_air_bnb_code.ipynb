{
 "cells": [
  {
   "cell_type": "markdown",
   "id": "962d2e23",
   "metadata": {},
   "source": [
    "# New York Air BnB Listing 2024: Python Data Analysis Project (Performing EDA & Data Visualization)"
   ]
  }
 ],
 "metadata": {
  "language_info": {
   "name": "python"
  }
 },
 "nbformat": 4,
 "nbformat_minor": 5
}
